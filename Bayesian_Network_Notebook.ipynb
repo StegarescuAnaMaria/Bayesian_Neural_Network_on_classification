{
  "nbformat": 4,
  "nbformat_minor": 0,
  "metadata": {
    "colab": {
      "name": "Copy of PP_Project2.ipynb",
      "provenance": [],
      "collapsed_sections": [],
      "machine_shape": "hm"
    },
    "kernelspec": {
      "name": "python3",
      "display_name": "Python 3"
    },
    "language_info": {
      "name": "python"
    }
  },
  "cells": [
    {
      "cell_type": "markdown",
      "source": [
        "Imports:"
      ],
      "metadata": {
        "id": "YG3fPu02bVd8"
      }
    },
    {
      "cell_type": "code",
      "source": [
        "from sklearn.datasets import make_regression\n",
        "import matplotlib.pyplot as plt\n",
        "!pip install pymc\n",
        "import pymc as pm\n",
        "import numpy as np"
      ],
      "metadata": {
        "colab": {
          "base_uri": "https://localhost:8080/"
        },
        "id": "zK7YGauLnKEM",
        "outputId": "88cb7a09-4871-4b39-c089-7565b13c1970"
      },
      "execution_count": 162,
      "outputs": [
        {
          "output_type": "stream",
          "name": "stdout",
          "text": [
            "Requirement already satisfied: pymc in /usr/local/lib/python3.7/dist-packages (2.3.8)\n"
          ]
        }
      ]
    },
    {
      "cell_type": "markdown",
      "source": [
        "**Sanity check:**"
      ],
      "metadata": {
        "id": "Gxl9k6e-YQt5"
      }
    },
    {
      "cell_type": "markdown",
      "source": [
        "Building the dataset:"
      ],
      "metadata": {
        "id": "LZxY6pofZ95r"
      }
    },
    {
      "cell_type": "code",
      "source": [
        "X = np.random.randn(100, 2)\n",
        "Y = np.tanh(X[:, 0] + X[:, 1])\n",
        "Y = 1./ (1. + np.exp(-(Y + Y)))\n",
        "Y = np.array([int(x) for x in Y > 0.5])                                                               #labels"
      ],
      "metadata": {
        "id": "VZCSNk_XYVJj"
      },
      "execution_count": null,
      "outputs": []
    },
    {
      "cell_type": "markdown",
      "source": [
        "Building the network:"
      ],
      "metadata": {
        "id": "mWRRt2ibZ6ik"
      }
    },
    {
      "cell_type": "code",
      "source": [
        "n_nodes = 6\n",
        "w = pm.Container([pm.Normal(\"w_%i\"%j, 0, 1, value=np.random.randn(100)) for j in range(n_nodes)])"
      ],
      "metadata": {
        "id": "qkwvTyABaua-"
      },
      "execution_count": null,
      "outputs": []
    },
    {
      "cell_type": "code",
      "source": [
        "@pm.deterministic\n",
        "def NN(X=X, w=w):\n",
        "  node1 = np.tanh(w[0]*X[:, 0] + w[1]*X[:, 1])\n",
        "  node2 = np.tanh(w[2]*X[:, 0] + w[3]*X[:, 1])\n",
        "  node3 = 1. / (1 + np.exp(-(w[4] * node1 + w[5] * node2)))\n",
        "  return node3"
      ],
      "metadata": {
        "colab": {
          "base_uri": "https://localhost:8080/"
        },
        "id": "iPQbgU4dZr5w",
        "outputId": "de260e88-edaa-495c-a030-8792dde88de5"
      },
      "execution_count": null,
      "outputs": [
        {
          "output_type": "stream",
          "name": "stdout",
          "text": [
            "\n"
          ]
        }
      ]
    },
    {
      "cell_type": "markdown",
      "source": [
        "Building the model:"
      ],
      "metadata": {
        "id": "rUPXgc4oaNxm"
      }
    },
    {
      "cell_type": "code",
      "source": [
        "n_iter = 30000\n",
        "burn = 0\n",
        "\n",
        "y = pm.Container(\"labels_train\", Y)\n",
        "\n",
        "predictions = pm.Bernoulli(\"predictions\", NN, value=np.random.randn(100), observed=y)\n",
        "\n",
        "model = pm.Model([predictions, w, y, NN])\n",
        "map_ = pm.MAP(model)\n",
        "map_.fit()\n",
        "mcmc = pm.MCMC(model)\n",
        "mcmc.sample(iter=n_iter, burn=burn)"
      ],
      "metadata": {
        "colab": {
          "base_uri": "https://localhost:8080/"
        },
        "id": "ylT-QDboZ4-_",
        "outputId": "2df6ba57-6729-455a-d032-77b88ac24f41"
      },
      "execution_count": null,
      "outputs": [
        {
          "output_type": "stream",
          "name": "stderr",
          "text": [
            "/usr/local/lib/python3.7/dist-packages/pymc/MCMC.py:81: UserWarning: Instantiating a Model object directly is deprecated. We recommend passing variables directly to the Model subclass.\n",
            "  warnings.warn(message)\n"
          ]
        },
        {
          "output_type": "stream",
          "name": "stdout",
          "text": [
            " [-----------------100%-----------------] 30000 of 30000 complete in 16.4 sec"
          ]
        }
      ]
    },
    {
      "cell_type": "markdown",
      "source": [
        "Testing the accuracy:"
      ],
      "metadata": {
        "id": "-L3u8WsEbzQh"
      }
    },
    {
      "cell_type": "code",
      "source": [
        "def NN2(X=X, w=w):\n",
        "  node1 = np.tanh(w[0]*X[:, 0] + w[1]*X[:, 1])\n",
        "  node2 = np.tanh(w[:][2]*X[:, 0] + w[:][3]*X[:, 1])\n",
        "  node3 = 1. / (1 + np.exp(-(w[4] * node1 + w[5] * node2)))\n",
        "  return node3"
      ],
      "metadata": {
        "id": "tyEykOBmaUgx"
      },
      "execution_count": null,
      "outputs": []
    },
    {
      "cell_type": "code",
      "source": [
        "#Tracing the weights\n",
        "new_w = []\n",
        "for i in range(n_nodes):\n",
        "  new_w.append(mcmc.trace(\"w_%i\"%i)[n_iter-1-burn])\n",
        "\n",
        "#Calculating the probabilities for the Bernoulli training labels:\n",
        "train_pred_p = NN2(X, new_w)\n",
        "\n",
        "#Obtaining the labels with Bernoulli:\n",
        "train_pred = []\n",
        "for i in range(len(train_pred_p)):\n",
        "  train_pred.append(np.random.binomial(1, train_pred_p[i])) \n",
        "\n",
        "\n",
        "print(\"Accuracy of the sanity check model: {}%\".format(sum(train_pred2 == Y)))"
      ],
      "metadata": {
        "colab": {
          "base_uri": "https://localhost:8080/"
        },
        "id": "oRkcqQ1Pbw8O",
        "outputId": "92e48fea-774e-41fb-837e-681bd43ab9d5"
      },
      "execution_count": null,
      "outputs": [
        {
          "output_type": "stream",
          "name": "stdout",
          "text": [
            "Accuracy of the sanity check model: 52%\n"
          ]
        }
      ]
    },
    {
      "cell_type": "markdown",
      "source": [
        "**My binary example:**"
      ],
      "metadata": {
        "id": "TY02gcbfnLLD"
      }
    },
    {
      "cell_type": "markdown",
      "source": [
        "Building the dataset:"
      ],
      "metadata": {
        "id": "JL4KZ3LneMFu"
      }
    },
    {
      "cell_type": "code",
      "source": [
        "data_size = 100\n",
        "x1_0, x2_0 = make_regression(n_samples = data_size, n_features=1, bias = 0.0, noise=12.3)                     #label 0\n",
        "x1_1, x2_1 = make_regression(n_samples = data_size, n_features=1, bias = 5.0, noise=12.3)                     #label 1\n",
        "\n",
        "x1_1 = 2*x1_1 + 7                                                                                   #changing the center position of the cluster of points\n",
        "x2_1 = 2*x2_1 + 7\n",
        "\n",
        "X_0 = np.concatenate((x1_0, x2_0.reshape(-1, 1)), axis=1)                                                     #shape = (100, 2)\n",
        "X_1 = np.concatenate((x1_1, x2_1.reshape(-1, 1)), axis=1)                                                     #shape = (100, 2)\n",
        "\n",
        "\n",
        "slice1 = int(data_size/2)\n",
        "\n",
        "X_train = np.concatenate((X_0[:slice1][:], X_1[:slice1][:]), axis = 0)                                                           #shape = (100, 2)\n",
        "labels_train = np.concatenate((np.array([0. for i in range(slice1)]), np.array([1. for i in range(slice1)])), axis = None)\n",
        "X_test = np.concatenate((X_0[slice1:][:], X_1[slice1:][:]), axis = 0)                                                            #shape = (100, 2)\n",
        "labels_test = np.concatenate((np.array([0. for i in range(slice1)]), np.array([1. for i in range(slice1)])), axis = None)\n",
        "\n",
        "\n",
        "train = list(zip(X_train, labels_train))                                                       #shuffling data\n",
        "test = list(zip(X_test, labels_test))\n",
        "\n",
        "#Shuffling data\n",
        "np.random.shuffle(train)\n",
        "np.random.shuffle(test)\n",
        "\n",
        "for i in range(data_size):\n",
        "  X_train[i] = train[i][0]\n",
        "  X_test[i] = test[i][0]\n",
        "  labels_train[i] = train[i][1]\n",
        "  labels_test[i] = test[i][1]"
      ],
      "metadata": {
        "id": "mKDXGFE71g5P"
      },
      "execution_count": 165,
      "outputs": []
    },
    {
      "cell_type": "markdown",
      "source": [
        "Plotting generated data:"
      ],
      "metadata": {
        "id": "rE1TJuJgCKv-"
      }
    },
    {
      "cell_type": "code",
      "source": [
        "plt.plot(x1_0, x2_0, 'ro')\n",
        "plt.plot(x1_1, x2_1, 'bo')\n",
        "plt.legend([\"Label 0\", \"Label 1\"])\n",
        "plt.title(\"Binary dataset of clusters\")\n",
        "plt.show()"
      ],
      "metadata": {
        "colab": {
          "base_uri": "https://localhost:8080/",
          "height": 281
        },
        "id": "zF7giI32AiFe",
        "outputId": "53b417c8-2468-4dca-f404-d9d9b2d4e031"
      },
      "execution_count": 166,
      "outputs": [
        {
          "output_type": "display_data",
          "data": {
            "image/png": "[encoded data removed]",
            "text/plain": [
              "<Figure size 432x288 with 1 Axes>"
            ]
          },
          "metadata": {
            "needs_background": "light"
          }
        }
      ]
    },
    {
      "cell_type": "markdown",
      "source": [
        "Building the network:"
      ],
      "metadata": {
        "id": "lVXHNT9cfN3m"
      }
    },
    {
      "cell_type": "code",
      "source": [
        "n_nodes = 6\n",
        "w = pm.Container([pm.Normal(\"w_%i\"%j, 0, 1, value=np.random.randn(data_size)) for j in range(n_nodes)])"
      ],
      "metadata": {
        "id": "0PTGVQY3aF_d"
      },
      "execution_count": 167,
      "outputs": []
    },
    {
      "cell_type": "code",
      "source": [
        "@pm.deterministic\n",
        "def NN2(X=X_train, w=w):\n",
        "  node1 = np.tanh(w[0]*X[:, 0] + w[1]*X[:, 1])\n",
        "  node2 = np.tanh(w[:][2]*X[:, 0] + w[:][3]*X[:, 1])\n",
        "  node3 = 1. / (1 + np.exp(-(w[4] * node1 + w[5] * node2)))\n",
        "  return node3"
      ],
      "metadata": {
        "id": "XmdI-vClyp5_"
      },
      "execution_count": 168,
      "outputs": []
    },
    {
      "cell_type": "markdown",
      "source": [
        "Building the model:"
      ],
      "metadata": {
        "id": "fFbyO5Chrkl2"
      }
    },
    {
      "cell_type": "code",
      "source": [
        "n_iter = 1000\n",
        "burn = 0\n",
        "\n",
        "y = pm.Container(\"labels_train1\", labels_train)\n",
        "\n",
        "predictions = pm.Bernoulli(\"predictions\", NN2, value=np.random.randn(data_size), observed=y)\n",
        "\n",
        "model = pm.Model([predictions, w, y, NN2])\n",
        "map_ = pm.MAP(model)\n",
        "map_.fit()\n",
        "mcmc = pm.MCMC(model)\n",
        "mcmc.sample(iter=n_iter, burn=burn)"
      ],
      "metadata": {
        "colab": {
          "base_uri": "https://localhost:8080/"
        },
        "id": "pc9HtLEBGYR2",
        "outputId": "ddaf7098-1301-4c4b-c551-e748e0ea615b"
      },
      "execution_count": 169,
      "outputs": [
        {
          "output_type": "stream",
          "name": "stderr",
          "text": [
            "/usr/local/lib/python3.7/dist-packages/pymc/MCMC.py:81: UserWarning: Instantiating a Model object directly is deprecated. We recommend passing variables directly to the Model subclass.\n",
            "  warnings.warn(message)\n"
          ]
        },
        {
          "output_type": "stream",
          "name": "stdout",
          "text": [
            " [-----------------100%-----------------] 1000 of 1000 complete in 0.6 sec"
          ]
        }
      ]
    },
    {
      "cell_type": "markdown",
      "source": [
        "Tracing the predictions:"
      ],
      "metadata": {
        "id": "7IJxRfF5ibS4"
      }
    },
    {
      "cell_type": "code",
      "source": [
        "def NN3(X=X_train, w=w):\n",
        "  node1 = np.tanh(w[0]*X[:, 0] + w[1]*X[:, 1])\n",
        "  node2 = np.tanh(w[:][2]*X[:, 0] + w[:][3]*X[:, 1])\n",
        "  node3 = 1. / (1 + np.exp(-(w[4] * node1 + w[5] * node2)))\n",
        "  return node3"
      ],
      "metadata": {
        "id": "NI2h7dsoSOAf"
      },
      "execution_count": null,
      "outputs": []
    },
    {
      "cell_type": "code",
      "source": [
        "#Tracing the weights\n",
        "new_w = []\n",
        "for i in range(n_nodes):\n",
        "  new_w.append(mcmc.trace(\"w_%i\"%i)[n_iter-1-burn])\n",
        "  \n",
        "#Calculating the probabilities for the Bernoulli distributions of the predictions\n",
        "train_pred_p = NN3(X_train, new_w)\n",
        "test_pred_p = NN3(X_test, new_w)\n",
        "\n",
        "#Obtaining the train and test predictions\n",
        "test_pred = []\n",
        "for i in range(len(test_pred_p)):\n",
        "  test_pred.append(np.random.binomial(1, test_pred_p[i]))\n",
        "\n",
        "train_pred = []\n",
        "for i in range(len(train_pred_p)):\n",
        "  train_pred.append(np.random.binomial(1, train_pred_p[i]))  \n",
        "\n",
        "\n",
        "print(\"Accuracy of the binary model: {}%\".format(sum(test_pred == labels_test)/data_size*100))"
      ],
      "metadata": {
        "colab": {
          "base_uri": "https://localhost:8080/"
        },
        "id": "u9UKxYtYiXDN",
        "outputId": "913e157d-5ac9-4dd7-bd1e-24722e9fb77b"
      },
      "execution_count": null,
      "outputs": [
        {
          "output_type": "stream",
          "name": "stdout",
          "text": [
            "Accuracy of the binary model: 47.0%\n"
          ]
        }
      ]
    },
    {
      "cell_type": "markdown",
      "source": [
        "Tracing and plotting posteriors:"
      ],
      "metadata": {
        "id": "j5is-aDwKFqU"
      }
    },
    {
      "cell_type": "code",
      "source": [
        "traced_w = []\n",
        "for i in range(n_nodes):\n",
        "  traced_w.append([])\n",
        "  for j in range(n_iter-1-burn):\n",
        "    traced_w[i].append(mcmc.trace(\"w_%i\"%i)[j])"
      ],
      "metadata": {
        "id": "PX2-FMRlJoqn"
      },
      "execution_count": null,
      "outputs": []
    },
    {
      "cell_type": "code",
      "source": [
        "fig, ax = plt.subplots(2, 3, sharey=False, tight_layout=False)\n",
        "for i in range(2):\n",
        "  for j in range(3):\n",
        "    ax[i][j].hist(traced_w[i+j])\n",
        "    ax[i][j].set_title(\"w_%i\"%(i+j))"
      ],
      "metadata": {
        "colab": {
          "base_uri": "https://localhost:8080/",
          "height": 281
        },
        "id": "QdsI1NQrKg2G",
        "outputId": "6e11d221-a214-45a4-995a-6844894d512a"
      },
      "execution_count": null,
      "outputs": [
        {
          "output_type": "display_data",
          "data": {
            "image/png": "[encoded data removed]",
            "text/plain": [
              "<Figure size 432x288 with 6 Axes>"
            ]
          },
          "metadata": {
            "needs_background": "light"
          }
        }
      ]
    },
    {
      "cell_type": "markdown",
      "source": [
        "Comparing prior to posterior weights:"
      ],
      "metadata": {
        "id": "Rq5rShePaVVL"
      }
    },
    {
      "cell_type": "code",
      "source": [
        "prior_w = []\n",
        "for i in range(n_nodes):\n",
        "  prior_w.append(mcmc.trace(\"w_%i\"%i)[0])\n",
        "\n",
        "posterior_w = []\n",
        "for i in range(n_nodes):\n",
        "  posterior_w.append(mcmc.trace(\"w_%i\"%i)[n_iter-1-burn])  "
      ],
      "metadata": {
        "id": "D2E4Lm9laaLG"
      },
      "execution_count": 170,
      "outputs": []
    },
    {
      "cell_type": "code",
      "source": [
        "fig, ax = plt.subplots(2, 3, sharey=False, tight_layout=False)\n",
        "for i in range(2):\n",
        "  for j in range(3):\n",
        "    ax[i][j].hist([prior_w[i+j], posterior_w[i+j]], label=[\"Prior\", \"Posterior\"])\n",
        "    ax[i][j].set_title(\"w_%i\"%(i+j))"
      ],
      "metadata": {
        "colab": {
          "base_uri": "https://localhost:8080/",
          "height": 281
        },
        "id": "QUf4PqG3a-bJ",
        "outputId": "95469012-9f7b-4e10-d991-9e22a03d728b"
      },
      "execution_count": 171,
      "outputs": [
        {
          "output_type": "display_data",
          "data": {
            "image/png": "[encoded data removed]",
            "text/plain": [
              "<Figure size 432x288 with 6 Axes>"
            ]
          },
          "metadata": {
            "needs_background": "light"
          }
        }
      ]
    },
    {
      "cell_type": "markdown",
      "source": [
        "Comparing to a frequentist model:"
      ],
      "metadata": {
        "id": "ZwPyi_SczQ3M"
      }
    },
    {
      "cell_type": "code",
      "source": [
        "from sklearn.svm import SVC\n",
        "\n",
        "svc = SVC(kernel='linear')\n",
        "svc.fit(X_train, labels_train)\n",
        "predictions = svc.predict(X=X_test)\n",
        "\n",
        "print(\"Binary SVC accuracy: {}%\".format(np.mean(predictions == labels_test)*100))"
      ],
      "metadata": {
        "colab": {
          "base_uri": "https://localhost:8080/"
        },
        "id": "ZsVUj5b2zQEZ",
        "outputId": "3d075df0-d2ce-4e03-f197-0d83087efd3a"
      },
      "execution_count": null,
      "outputs": [
        {
          "output_type": "stream",
          "name": "stdout",
          "text": [
            "Binary SVC accuracy: 78.0%\n"
          ]
        }
      ]
    },
    {
      "cell_type": "markdown",
      "source": [
        "**My multiclass example:**"
      ],
      "metadata": {
        "id": "0vyaYVfx2fgc"
      }
    },
    {
      "cell_type": "markdown",
      "source": [
        "Building the dataset:"
      ],
      "metadata": {
        "id": "2fLKE5yu4lxq"
      }
    },
    {
      "cell_type": "code",
      "source": [
        "data_size = 400\n",
        "x1_0, x2_0 = make_regression(n_samples = data_size, n_features=1, bias = 0.0, noise=12.3)                     #label 0\n",
        "x1_1, x2_1 = make_regression(n_samples = data_size, n_features=1, bias = 5.0, noise=12.3)                     #label 1\n",
        "x1_2, x2_2 = make_regression(n_samples = data_size, n_features=1, bias = 0.0, noise=12.3)                    #label 2\n",
        "x1_3, x2_3 = make_regression(n_samples = data_size, n_features=1, bias = 5.0, noise=12.3)                    #label 2\n",
        "\n",
        "x1_1 = 2*x1_1 + 7                                                                                   #changing the center position of the cluster of points\n",
        "x2_1 = 2*x2_1 + 7\n",
        "\n",
        "x1_2 = 2*x1_2 + 14                                                                                   #changing the center position of the cluster of points\n",
        "x2_2 = 2*x2_2 + 14\n",
        "\n",
        "x1_3 = 2*x1_3 + 20                                                                                   #changing the center position of the cluster of points\n",
        "x2_3 = 2*x2_3 + 20\n",
        "\n",
        "X_0 = np.concatenate((x1_0, x2_0.reshape(-1, 1)), axis=1)                                                     #shape = (100, 2)\n",
        "X_1 = np.concatenate((x1_1, x2_1.reshape(-1, 1)), axis=1)                                                     #shape = (100, 2)\n",
        "X_2 = np.concatenate((x1_2, x2_2.reshape(-1, 1)), axis=1)                                                     #shape = (100, 2)\n",
        "X_3 = np.concatenate((x1_3, x2_3.reshape(-1, 1)), axis=1)                                                     #shape = (100, 2)\n",
        "\n",
        "slice1 = int(data_size/4)\n",
        "\n",
        "X_train = np.concatenate((X_0[:slice1][:], X_1[:slice1][:]), axis = 0)       \n",
        "X_train = np.concatenate((X_train, X_2[:slice1][:]), axis = 0)      \n",
        "X_train = np.concatenate((X_train, X_3[:slice1][:]), axis = 0)                                               #shape = (100, 2)\n",
        "labels_train = np.concatenate((np.array([0. for i in range(slice1)]), np.array([1. for i in range(slice1)])), axis = None)\n",
        "labels_train = np.concatenate((labels_train, np.array([2. for i in range(slice1)])), axis = None)\n",
        "labels_train = np.concatenate((labels_train, np.array([3. for i in range(slice1)])), axis = None)\n",
        "X_test = np.concatenate((X_0[slice1:][:], X_1[slice1:][:]), axis = 0)       \n",
        "X_test = np.concatenate((X_test, X_2[slice1:][:]), axis = 0)      \n",
        "X_test = np.concatenate((X_test, X_3[slice1:][:]), axis = 0)                                               #shape = (100, 2)\n",
        "labels_test = np.concatenate((np.array([0. for i in range(slice1)]), np.array([1. for i in range(slice1)])), axis = None)\n",
        "labels_test = np.concatenate((labels_test, np.array([2. for i in range(slice1)])), axis = None)\n",
        "labels_test = np.concatenate((labels_test, np.array([3. for i in range(slice1)])), axis = None)\n",
        "\n",
        "\n",
        "train = list(zip(X_train, labels_train))                                                       #shuffling data\n",
        "test = list(zip(X_test, labels_test))\n",
        "\n",
        "#Shuffling data\n",
        "np.random.shuffle(train)\n",
        "np.random.shuffle(test)\n",
        "\n",
        "for i in range(data_size):\n",
        "  X_train[i] = train[i][0]\n",
        "  X_test[i] = test[i][0]\n",
        "  labels_train[i] = train[i][1]\n",
        "  labels_test[i] = test[i][1]"
      ],
      "metadata": {
        "id": "vwRaIAob2pML"
      },
      "execution_count": null,
      "outputs": []
    },
    {
      "cell_type": "markdown",
      "source": [
        "Plotting the generated data:"
      ],
      "metadata": {
        "id": "IoTzbMwm4qxY"
      }
    },
    {
      "cell_type": "code",
      "source": [
        "plt.plot(x1_0, x2_0, 'ro')\n",
        "plt.plot(x1_1, x2_1, 'bo')\n",
        "plt.plot(x1_2, x2_2, 'o', color='green')\n",
        "plt.plot(x1_3, x2_3, 'o', color='black')\n",
        "plt.legend([\"Label 0\", \"Label 1\", \"Label 2\", \"Label 3\"])\n",
        "plt.title(\"Multiclass dataset of clusters\")\n",
        "plt.show()"
      ],
      "metadata": {
        "colab": {
          "base_uri": "https://localhost:8080/",
          "height": 281
        },
        "id": "915wfuFg4tU7",
        "outputId": "f16f37f1-5230-4395-a686-8d71f7d4e374"
      },
      "execution_count": null,
      "outputs": [
        {
          "output_type": "display_data",
          "data": {
            "image/png": "[encoded data removed]",
            "text/plain": [
              "<Figure size 432x288 with 1 Axes>"
            ]
          },
          "metadata": {
            "needs_background": "light"
          }
        }
      ]
    },
    {
      "cell_type": "markdown",
      "source": [
        "Building the network:"
      ],
      "metadata": {
        "id": "NYTlxWKX6CQE"
      }
    },
    {
      "cell_type": "code",
      "source": [
        "n_nodes = 6\n",
        "w = pm.Container([pm.Normal(\"w_%i\"%j, 0, 1, value=np.random.randn(data_size)) for j in range(n_nodes)])"
      ],
      "metadata": {
        "id": "n9JNa1kG6EoS"
      },
      "execution_count": null,
      "outputs": []
    },
    {
      "cell_type": "code",
      "source": [
        "@pm.deterministic\n",
        "def NN3(X=X_train, w=w):\n",
        "  node1 = np.tanh(w[0]*X[:, 0] + w[1]*X[:, 1])\n",
        "  node2 = np.tanh(w[:][2]*X[:, 0] + w[:][3]*X[:, 1])\n",
        "  x = w[4] * node1 + w[5] * node2\n",
        "  node3 = np.exp(x) / np.sum(np.exp(x))\n",
        "  node3_last = 1 - sum(node3[:-1])                                                     #must sum up to 1, not 0.999999\n",
        "  node3[-1] = node3_last\n",
        "  return node3"
      ],
      "metadata": {
        "id": "sIrn82xX6F6c"
      },
      "execution_count": null,
      "outputs": []
    },
    {
      "cell_type": "markdown",
      "source": [
        "Building the model:"
      ],
      "metadata": {
        "id": "7Tm4GWtJ6Y2b"
      }
    },
    {
      "cell_type": "code",
      "source": [
        "n_iter = 10000\n",
        "burn = 0\n",
        "\n",
        "y = pm.Container(\"labels_train1\", labels_train)\n",
        "\n",
        "predictions = pm.Categorical(\"predictions\", NN3, value=np.random.randn(data_size), observed=y)\n",
        "\n",
        "model = pm.Model([predictions, w, y, NN])\n",
        "map_ = pm.MAP(model)\n",
        "map_.fit()\n",
        "mcmc = pm.MCMC(model)\n",
        "mcmc.sample(iter=n_iter, burn=burn)"
      ],
      "metadata": {
        "colab": {
          "base_uri": "https://localhost:8080/",
          "height": 397
        },
        "id": "5MaTIsNP6ak_",
        "outputId": "ea12c01a-2bf0-46a6-837e-cee14e59b187"
      },
      "execution_count": null,
      "outputs": [
        {
          "output_type": "error",
          "ename": "ZeroProbability",
          "evalue": "ignored",
          "traceback": [
            "\u001b[0;31m---------------------------------------------------------------------------\u001b[0m",
            "\u001b[0;31mZeroProbability\u001b[0m                           Traceback (most recent call last)",
            "\u001b[0;32m<ipython-input-161-ac34ac9a68d2>\u001b[0m in \u001b[0;36m<module>\u001b[0;34m()\u001b[0m\n\u001b[1;32m      4\u001b[0m \u001b[0my\u001b[0m \u001b[0;34m=\u001b[0m \u001b[0mpm\u001b[0m\u001b[0;34m.\u001b[0m\u001b[0mContainer\u001b[0m\u001b[0;34m(\u001b[0m\u001b[0;34m\"labels_train1\"\u001b[0m\u001b[0;34m,\u001b[0m \u001b[0mlabels_train\u001b[0m\u001b[0;34m)\u001b[0m\u001b[0;34m\u001b[0m\u001b[0;34m\u001b[0m\u001b[0m\n\u001b[1;32m      5\u001b[0m \u001b[0;34m\u001b[0m\u001b[0m\n\u001b[0;32m----> 6\u001b[0;31m \u001b[0mpredictions\u001b[0m \u001b[0;34m=\u001b[0m \u001b[0mpm\u001b[0m\u001b[0;34m.\u001b[0m\u001b[0mCategorical\u001b[0m\u001b[0;34m(\u001b[0m\u001b[0;34m\"predictions\"\u001b[0m\u001b[0;34m,\u001b[0m \u001b[0mNN3\u001b[0m\u001b[0;34m,\u001b[0m \u001b[0mvalue\u001b[0m\u001b[0;34m=\u001b[0m\u001b[0mnp\u001b[0m\u001b[0;34m.\u001b[0m\u001b[0mrandom\u001b[0m\u001b[0;34m.\u001b[0m\u001b[0mrandn\u001b[0m\u001b[0;34m(\u001b[0m\u001b[0mdata_size\u001b[0m\u001b[0;34m)\u001b[0m\u001b[0;34m,\u001b[0m \u001b[0mobserved\u001b[0m\u001b[0;34m=\u001b[0m\u001b[0my\u001b[0m\u001b[0;34m)\u001b[0m\u001b[0;34m\u001b[0m\u001b[0;34m\u001b[0m\u001b[0m\n\u001b[0m\u001b[1;32m      7\u001b[0m \u001b[0;34m\u001b[0m\u001b[0m\n\u001b[1;32m      8\u001b[0m \u001b[0mmodel\u001b[0m \u001b[0;34m=\u001b[0m \u001b[0mpm\u001b[0m\u001b[0;34m.\u001b[0m\u001b[0mModel\u001b[0m\u001b[0;34m(\u001b[0m\u001b[0;34m[\u001b[0m\u001b[0mpredictions\u001b[0m\u001b[0;34m,\u001b[0m \u001b[0mw\u001b[0m\u001b[0;34m,\u001b[0m \u001b[0my\u001b[0m\u001b[0;34m,\u001b[0m \u001b[0mNN\u001b[0m\u001b[0;34m]\u001b[0m\u001b[0;34m)\u001b[0m\u001b[0;34m\u001b[0m\u001b[0;34m\u001b[0m\u001b[0m\n",
            "\u001b[0;32m/usr/local/lib/python3.7/dist-packages/pymc/distributions.py\u001b[0m in \u001b[0;36m__init__\u001b[0;34m(self, name, p, value, dtype, observed, size, trace, rseed, cache_depth, plot, verbose, **kwds)\u001b[0m\n\u001b[1;32m   3174\u001b[0m                                 \u001b[0mrseed\u001b[0m\u001b[0;34m=\u001b[0m\u001b[0mrseed\u001b[0m\u001b[0;34m,\u001b[0m \u001b[0mobserved\u001b[0m\u001b[0;34m=\u001b[0m\u001b[0mobserved\u001b[0m\u001b[0;34m,\u001b[0m\u001b[0;34m\u001b[0m\u001b[0;34m\u001b[0m\u001b[0m\n\u001b[1;32m   3175\u001b[0m                                 \u001b[0mcache_depth\u001b[0m\u001b[0;34m=\u001b[0m\u001b[0mcache_depth\u001b[0m\u001b[0;34m,\u001b[0m \u001b[0mplot\u001b[0m\u001b[0;34m=\u001b[0m\u001b[0mplot\u001b[0m\u001b[0;34m,\u001b[0m\u001b[0;34m\u001b[0m\u001b[0;34m\u001b[0m\u001b[0m\n\u001b[0;32m-> 3176\u001b[0;31m                                 verbose=verbose, **kwds)\n\u001b[0m\u001b[1;32m   3177\u001b[0m \u001b[0;34m\u001b[0m\u001b[0m\n\u001b[1;32m   3178\u001b[0m \u001b[0;31m# class ModCategorical(Stochastic):\u001b[0m\u001b[0;34m\u001b[0m\u001b[0;34m\u001b[0m\u001b[0;34m\u001b[0m\u001b[0m\n",
            "\u001b[0;32m/usr/local/lib/python3.7/dist-packages/pymc/PyMCObjects.py\u001b[0m in \u001b[0;36m__init__\u001b[0;34m(self, logp, doc, name, parents, random, trace, value, dtype, rseed, observed, cache_depth, plot, verbose, check_logp, logp_partial_gradients)\u001b[0m\n\u001b[1;32m    766\u001b[0m         \u001b[0;32mif\u001b[0m \u001b[0mcheck_logp\u001b[0m\u001b[0;34m:\u001b[0m\u001b[0;34m\u001b[0m\u001b[0;34m\u001b[0m\u001b[0m\n\u001b[1;32m    767\u001b[0m             \u001b[0;31m# Check initial value\u001b[0m\u001b[0;34m\u001b[0m\u001b[0;34m\u001b[0m\u001b[0;34m\u001b[0m\u001b[0m\n\u001b[0;32m--> 768\u001b[0;31m             \u001b[0;32mif\u001b[0m \u001b[0;32mnot\u001b[0m \u001b[0misinstance\u001b[0m\u001b[0;34m(\u001b[0m\u001b[0mself\u001b[0m\u001b[0;34m.\u001b[0m\u001b[0mlogp\u001b[0m\u001b[0;34m,\u001b[0m \u001b[0mfloat\u001b[0m\u001b[0;34m)\u001b[0m\u001b[0;34m:\u001b[0m\u001b[0;34m\u001b[0m\u001b[0;34m\u001b[0m\u001b[0m\n\u001b[0m\u001b[1;32m    769\u001b[0m                 raise ValueError(\n\u001b[1;32m    770\u001b[0m                     \u001b[0;34m\"Stochastic \"\u001b[0m \u001b[0;34m+\u001b[0m\u001b[0;34m\u001b[0m\u001b[0;34m\u001b[0m\u001b[0m\n",
            "\u001b[0;32m/usr/local/lib/python3.7/dist-packages/pymc/PyMCObjects.py\u001b[0m in \u001b[0;36mget_logp\u001b[0;34m(self)\u001b[0m\n\u001b[1;32m    923\u001b[0m                     (self._value, self._parents.value))\n\u001b[1;32m    924\u001b[0m             \u001b[0;32melse\u001b[0m\u001b[0;34m:\u001b[0m\u001b[0;34m\u001b[0m\u001b[0;34m\u001b[0m\u001b[0m\n\u001b[0;32m--> 925\u001b[0;31m                 \u001b[0;32mraise\u001b[0m \u001b[0mZeroProbability\u001b[0m\u001b[0;34m(\u001b[0m\u001b[0mself\u001b[0m\u001b[0;34m.\u001b[0m\u001b[0merrmsg\u001b[0m\u001b[0;34m)\u001b[0m\u001b[0;34m\u001b[0m\u001b[0;34m\u001b[0m\u001b[0m\n\u001b[0m\u001b[1;32m    926\u001b[0m \u001b[0;34m\u001b[0m\u001b[0m\n\u001b[1;32m    927\u001b[0m         \u001b[0;32mreturn\u001b[0m \u001b[0mlogp\u001b[0m\u001b[0;34m\u001b[0m\u001b[0;34m\u001b[0m\u001b[0m\n",
            "\u001b[0;31mZeroProbability\u001b[0m: Stochastic predictions's value is outside its support,\n or it forbids its parents' current values."
          ]
        }
      ]
    },
    {
      "cell_type": "markdown",
      "source": [
        "Tracing the predictions:"
      ],
      "metadata": {
        "id": "Hj1OxIvJ7JLo"
      }
    },
    {
      "cell_type": "code",
      "source": [
        "def NN4(X=X_train, w=w):\n",
        "  node1 = np.tanh(w[0]*X[:, 0] + w[1]*X[:, 1])\n",
        "  node2 = np.tanh(w[:][2]*X[:, 0] + w[:][3]*X[:, 1])\n",
        "  x = w[4] * node1 + w[5] * node2\n",
        "  node3 = np.exp(x) / np.sum(np.exp(x))\n",
        "  node3_last = 1 - sum(node3[:-1])                                                     #must sum up to 1, not 0.999999\n",
        "  node3[-1] = node3_last\n",
        "  return node3"
      ],
      "metadata": {
        "id": "Q5h2oXaG7EKc"
      },
      "execution_count": null,
      "outputs": []
    },
    {
      "cell_type": "code",
      "source": [
        "#Tracing the weights\n",
        "new_w = []\n",
        "for i in range(n_nodes):\n",
        "  new_w.append(mcmc.trace(\"w_%i\"%i)[n_iter-1-burn])\n",
        "  \n",
        "#Calculating the probabilities for the Bernoulli distributions of the predictions\n",
        "train_pred_p = NN4(X_train, new_w)\n",
        "test_pred_p = NN4(X_test, new_w)\n",
        "\n",
        "#Obtaining the train and test predictions\n",
        "test_pred = []\n",
        "for i in range(len(test_pred_p)):\n",
        "  test_pred.append(np.random.binomial(1, test_pred_p[i]))\n",
        "\n",
        "train_pred = []\n",
        "for i in range(len(train_pred_p)):\n",
        "  train_pred.append(np.random.binomial(1, train_pred_p[i]))  \n",
        "\n",
        "\n",
        "print(\"Accuracy of the binary model: {}%\".format(sum(test_pred == labels_test)/data_size*100))"
      ],
      "metadata": {
        "id": "Njo4N6Mk7lOz"
      },
      "execution_count": null,
      "outputs": []
    },
    {
      "cell_type": "markdown",
      "source": [
        "Tracing and plotting posteriors:"
      ],
      "metadata": {
        "id": "MW83BuktU0gT"
      }
    },
    {
      "cell_type": "code",
      "source": [
        "traced_w = []\n",
        "for i in range(n_nodes):\n",
        "  traced_w.append([])\n",
        "  for j in range(n_iter-1-burn):\n",
        "    traced_w[i].append(mcmc.trace(\"w_%i\"%i)[j])"
      ],
      "metadata": {
        "id": "Hx0rrwW_U3XP"
      },
      "execution_count": null,
      "outputs": []
    },
    {
      "cell_type": "code",
      "source": [
        "fig, ax = plt.subplots(2, 3, sharey=False, tight_layout=False)\n",
        "for i in range(2):\n",
        "  for j in range(3):\n",
        "    ax[i][j].hist(traced_w[i+j])\n",
        "    ax[i][j].set_title(\"w_%i\"%(i+j))"
      ],
      "metadata": {
        "id": "o9xbrLJeU89M"
      },
      "execution_count": null,
      "outputs": []
    },
    {
      "cell_type": "markdown",
      "source": [
        "Comparing prior to posterior weights:"
      ],
      "metadata": {
        "id": "Rs_Jl2wybfOK"
      }
    },
    {
      "cell_type": "code",
      "source": [
        "prior_w = []\n",
        "for i in range(n_nodes):\n",
        "  prior_w.append(mcmc.trace(\"w_%i\"%i)[0])\n",
        "\n",
        "posterior_w = []\n",
        "for i in range(n_nodes):\n",
        "  posterior_w.append(mcmc.trace(\"w_%i\"%i)[n_iter-1-burn])  "
      ],
      "metadata": {
        "id": "8oFqdvQKbiEE"
      },
      "execution_count": null,
      "outputs": []
    },
    {
      "cell_type": "code",
      "source": [
        "fig, ax = plt.subplots(2, 3, sharey=False, tight_layout=False)\n",
        "for i in range(2):\n",
        "  for j in range(3):\n",
        "    ax[i][j].hist([prior_w[i+j], posterior_w[i+j]], label=[\"Prior\", \"Posterior\"])\n",
        "    ax[i][j].set_title(\"w_%i\"%(i+j))"
      ],
      "metadata": {
        "id": "TD73nuM1bnC9"
      },
      "execution_count": null,
      "outputs": []
    },
    {
      "cell_type": "markdown",
      "source": [
        "Comparing to a frequentist model:"
      ],
      "metadata": {
        "id": "4b5b1DC67wBg"
      }
    },
    {
      "cell_type": "code",
      "source": [
        "svc = SVC(kernel='rbf')\n",
        "\n",
        "svc.fit(X_train, labels_train)\n",
        "predictions = svc.predict(X=X_test)\n",
        "\n",
        "accuracy = np.mean(np.array([predictions[i] == labels_test[i] for i in range(data_size)]))\n",
        "print(\"Multiclass SVC accuracy: {}%\".format(accuracy*100))"
      ],
      "metadata": {
        "colab": {
          "base_uri": "https://localhost:8080/"
        },
        "id": "ECCn1Kyj721v",
        "outputId": "47e1b79c-3fb0-42f6-ae56-03d85e38a630"
      },
      "execution_count": null,
      "outputs": [
        {
          "output_type": "stream",
          "name": "stdout",
          "text": [
            "Multiclass SVC accuracy: 23.5%\n"
          ]
        }
      ]
    }
  ]
}